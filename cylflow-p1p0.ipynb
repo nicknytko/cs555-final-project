{
 "cells": [
  {
   "cell_type": "code",
   "execution_count": null,
   "metadata": {},
   "outputs": [],
   "source": [
    "import numpy as np\n",
    "import numpy.linalg as la\n",
    "import scipy.sparse as sp\n",
    "import scipy.sparse.linalg as spla\n",
    "import matplotlib.pyplot as plt\n",
    "import trigauss\n",
    "import mesh\n",
    "import fem"
   ]
  },
  {
   "cell_type": "code",
   "execution_count": null,
   "metadata": {},
   "outputs": [],
   "source": [
    "pts, tris, boundaries = mesh.load_mesh('cylflow.msh')\n",
    "pts = pts[:,:2]\n",
    "\n",
    "A,B,D1,D2 = fem.assemble_p1p0(pts, tris)"
   ]
  },
  {
   "cell_type": "code",
   "execution_count": null,
   "metadata": {},
   "outputs": [],
   "source": [
    "from functools import reduce\n",
    "def union_many(boundaries):\n",
    "    return reduce(np.union1d, boundaries)"
   ]
  },
  {
   "cell_type": "code",
   "execution_count": null,
   "metadata": {},
   "outputs": [],
   "source": [
    "#boundaries[0] = circle\n",
    "#boundaries[1] = left inlet\n",
    "#boundaries[2] = bottom wall\n",
    "#boundaries[3] = right wall\n",
    "#boundaries[4] = top wall\n",
    "\n",
    "def boundary_nodes(xy):\n",
    "    x,y=xy\n",
    "    if x==0:\n",
    "        return True\n",
    "    if y==1:\n",
    "        return True\n",
    "    if y==0:\n",
    "        return True\n",
    "    if np.sqrt((x-2)**2+(y-0.5)**2) < 0.26:\n",
    "        return True\n",
    "    return False\n",
    "\n",
    "def boundary_nodes_pressure(xy):\n",
    "    x,y=xy\n",
    "    if y==1:\n",
    "        return False\n",
    "    if y==0:\n",
    "        return False\n",
    "    if x==4:\n",
    "        return True\n",
    "    return False\n",
    "\n",
    "dc_nodes = []\n",
    "for i,q in enumerate(pts):\n",
    "    if boundary_nodes(q):\n",
    "        dc_nodes.append(i)\n",
    "dc_nodes = np.array(dc_nodes)\n",
    "\n",
    "R = fem.create_restriction(A.shape[0], dc_nodes)\n",
    "plt.figure(figsize=(15,4))\n",
    "plt.plot(pts[dc_nodes][:,0], pts[dc_nodes][:,1], 'o', markersize=2)"
   ]
  },
  {
   "cell_type": "code",
   "execution_count": null,
   "metadata": {},
   "outputs": [],
   "source": [
    "def boundary_u_x(xy):\n",
    "    x, y = xy\n",
    "    if y==1 or y==0 or (x-2)**2 + (y-0.5)**2 <= 0.3**2:\n",
    "        return 0\n",
    "    elif x==0:\n",
    "        return 1\n",
    "\n",
    "def boundary_u_y(xy):\n",
    "    return 0\n",
    "\n",
    "def create_rhs(A, pts, boundary_nodes, boundary_function):\n",
    "    boundary_values = np.apply_along_axis(boundary_function, 1, pts[boundary_nodes])\n",
    "    rhs = np.zeros(A.shape[0])\n",
    "    bcs = np.zeros(A.shape[0])\n",
    "    Acsc = A.tocsc()\n",
    "    \n",
    "    for i, bc in enumerate(boundary_nodes):\n",
    "        col = np.array(Acsc[:,bc].todense()).flatten()\n",
    "        rhs -= col * boundary_values[i]\n",
    "        bcs[bc] = boundary_values[i]\n",
    "    \n",
    "    return rhs, bcs\n",
    "\n",
    "rhs_x, bcs_x = create_rhs(A, pts, dc_nodes, boundary_u_x)\n",
    "rhs_y, bcs_y = create_rhs(A, pts, dc_nodes, boundary_u_y)"
   ]
  },
  {
   "cell_type": "code",
   "execution_count": null,
   "metadata": {},
   "outputs": [],
   "source": [
    "import scipy.interpolate as si\n",
    "import matplotlib.colors as colors\n",
    "\n",
    "def plot_soln(points, triangles, u):\n",
    "    plt.tripcolor(points[:,0], points[:,1], triangles, u, shading='gouraud')"
   ]
  },
  {
   "cell_type": "code",
   "execution_count": null,
   "metadata": {},
   "outputs": [],
   "source": [
    "Ah = R.T@A@R\n",
    "\n",
    "Dx = D1@R\n",
    "Dy = D2@R\n",
    "Zh = None\n",
    "Saddle = sp.bmat([\n",
    "    [Ah,   Zh, -Dx.T],\n",
    "    [Zh,   Ah, -Dy.T],\n",
    "    [-Dx, -Dy,    Zh]\n",
    "]).tocsr()"
   ]
  },
  {
   "cell_type": "code",
   "execution_count": null,
   "metadata": {},
   "outputs": [],
   "source": [
    "Ah.shape"
   ]
  },
  {
   "cell_type": "code",
   "execution_count": null,
   "metadata": {},
   "outputs": [],
   "source": [
    "u_x = spla.cg(Ah, R.T@rhs_x)[0]\n",
    "plt.figure(figsize=(15,4))\n",
    "plot_soln(pts, tris, R@u_x + bcs_x)"
   ]
  },
  {
   "cell_type": "code",
   "execution_count": null,
   "metadata": {},
   "outputs": [],
   "source": [
    "rhs_p = D1@bcs_x + D2@bcs_y\n",
    "up = spla.cg(Saddle, np.hstack([R.T@rhs_x, R.T@rhs_y, rhs_p]))[0]\n",
    "\n",
    "g = -rhs_p\n",
    "D = sp.bmat([[Dx.T],[Dy.T]])\n",
    "\n",
    "pressure_size = Dx.shape[0]\n",
    "velocity_size_1d = Ah.shape[0]\n",
    "velocity_size_2d = 2*velocity_size_1d\n",
    "\n",
    "def schur_matvec(q):\n",
    "    A = sp.block_diag([Ah,Ah])\n",
    "    q_hat = D@q\n",
    "    q_hh = spla.spsolve(A, q_hat)\n",
    "    return D.T@q_hh"
   ]
  },
  {
   "cell_type": "code",
   "execution_count": null,
   "metadata": {},
   "outputs": [],
   "source": [
    "s = (R.T@rhs_x).shape[0]\n",
    "u_x = R@up[:s] + bcs_x\n",
    "u_y = R@up[s:2*s] + bcs_y\n",
    "p = up[2*s:]"
   ]
  },
  {
   "cell_type": "code",
   "execution_count": null,
   "metadata": {},
   "outputs": [],
   "source": [
    "plt.figure(figsize=(18,4))\n",
    "plot_soln(pts, tris, np.sqrt(u_x**2 + u_y**2))\n",
    "plt.colorbar()\n",
    "plt.title('Velocity Magnitude')\n",
    "\n",
    "plt.figure(figsize=(18,4))\n",
    "plt.tripcolor(pts[:,0], pts[:,1], tris, p)\n",
    "plt.colorbar()\n",
    "plt.title('Pressure')"
   ]
  },
  {
   "cell_type": "code",
   "execution_count": null,
   "metadata": {},
   "outputs": [],
   "source": [
    "plt.figure(figsize=(18,4))\n",
    "plot_soln(pts, tris, u_x)\n",
    "plt.colorbar()\n",
    "plt.title('X Velocity')\n",
    "\n",
    "plt.figure(figsize=(18,4))\n",
    "plot_soln(pts, tris, u_y)\n",
    "plt.colorbar()\n",
    "plt.title('Y Velocity')"
   ]
  },
  {
   "cell_type": "code",
   "execution_count": null,
   "metadata": {},
   "outputs": [],
   "source": [
    "import matplotlib.tri as tri\n",
    "\n",
    "def plot_streamlines(points, u_x, u_y):\n",
    "    x = np.linspace(np.min(points[:,0]), np.max(points[:,0]), 500)\n",
    "    y = np.linspace(np.min(points[:,1]), np.max(points[:,1]), 500)\n",
    "    xx, yy = np.meshgrid(x,y);\n",
    "    xi = np.row_stack([xx.flatten(),yy.flatten()])\n",
    "    u_xi = si.griddata(points, u_x, xi.T, method='cubic')\n",
    "    u_yi = si.griddata(points, u_y, xi.T, method='cubic')\n",
    "    \n",
    "    hole = ((xx-2)**2 + (yy-0.5)**2) <= (0.25)**2\n",
    "    u_xi = u_xi.reshape(xx.shape)\n",
    "    u_yi = u_yi.reshape(yy.shape)\n",
    "    \n",
    "    u_xi[hole] = 0\n",
    "    u_yi[hole] = 0\n",
    "    \n",
    "    plt.streamplot(xx,yy,u_xi,u_yi,density=0.5)\n",
    "\n",
    "plt.figure(figsize=(18,4))\n",
    "plot_soln(pts, tris, np.sqrt(u_x**2 + u_y**2))\n",
    "plt.colorbar()\n",
    "plt.title('Velocity Magnitude')\n",
    "plot_streamlines(pts, u_x, u_y)"
   ]
  },
  {
   "cell_type": "code",
   "execution_count": null,
   "metadata": {},
   "outputs": [],
   "source": []
  }
 ],
 "metadata": {
  "kernelspec": {
   "display_name": "Python 3",
   "language": "python",
   "name": "python3"
  },
  "language_info": {
   "codemirror_mode": {
    "name": "ipython",
    "version": 3
   },
   "file_extension": ".py",
   "mimetype": "text/x-python",
   "name": "python",
   "nbconvert_exporter": "python",
   "pygments_lexer": "ipython3",
   "version": "3.9.0"
  }
 },
 "nbformat": 4,
 "nbformat_minor": 5
}
